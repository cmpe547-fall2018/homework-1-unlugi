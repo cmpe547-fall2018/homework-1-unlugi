{
 "cells": [
  {
   "cell_type": "markdown",
   "metadata": {},
   "source": [
    "## Twenty Faced Die"
   ]
  },
  {
   "cell_type": "markdown",
   "metadata": {},
   "source": [
    "![title](Q9-Twenty-Faced-Die.JPG)"
   ]
  },
  {
   "cell_type": "markdown",
   "metadata": {},
   "source": [
    "----------------------------------------------------------------------------------------------------------------------\n",
    "1) $$ Given \\quad X = \\{X_1 = 5, X_2 = 3, X_3 = 9, X_4 = 3, X_5 = 8, X_6 = 4, X_7 = 7\\} ,$$\n",
    "\n",
    "$$ P(D=A|X)=?$$\n",
    "\n",
    "\n",
    "$$ P(D=A|X)= \\frac{P(D=A,X)}{P(X)} = \\frac{P(X|D=A)P(D=A)}{\\sum_{D_i=\\{A,B\\}}P(X|D_i)P(D_i)} $$\n",
    "$$ = \\frac{ \\frac{1}{20}\\frac{3}{20}\\frac{1}{20}\\frac{3}{20}\\frac{1}{20}\\frac{2}{20}\\frac{1}{20}\\frac{1}{2}}{\\frac{1}{20}\\frac{3}{20}\\frac{1}{20}\\frac{3}{20}\\frac{1}{20}\\frac{2}{20}\\frac{1}{20}\\frac{1}{2} + \\frac{2}{20}\\frac{2}{20}\\frac{1}{20}\\frac{2}{20}\\frac{2}{20}\\frac{2}{20}\\frac{2}{20}\\frac{1}{2} } = \\frac{18}{82}= 0.2195$$"
   ]
  },
  {
   "cell_type": "markdown",
   "metadata": {},
   "source": [
    "2) $ \\quad X = \\{X_1 = 5, X_2 = 3, X_3 = 9, X_4 = 3, X_5 = 8, X_6 = 4, X_7 = 7\\}$\n",
    "\n",
    "$$ P(D=A|X)=  \\frac{P(X|D=A)P(D=A)}{\\sum_{D_i=\\{A,B,C\\}}P(X|D_i)P(D_i)}= \\frac{\\frac{18}{20^7}\\frac{1}{3}}{\\frac{18}{20^7}\\frac{1}{3} + \\frac{64}{20^7}\\frac{1}{3} + \\frac{1}{20^7}\\frac{1}{3}} = \\frac{18}{83}= 0.2169 $$\n",
    "$$ $$\n",
    "\n",
    "\n",
    "$$ P(D=B|X)= \\frac{P(X|D=B)P(D=B)}{\\sum_{D_i=\\{A,B,C\\}}P(X|D_i)P(D_i)} =  \\frac{\\frac{64}{20^7}\\frac{1}{3}}{\\frac{18}{20^7}\\frac{1}{3} + \\frac{64}{20^7}\\frac{1}{3} + \\frac{1}{20^7}\\frac{1}{3}} = \\frac{64}{83}= 0.7710$$\n",
    "\n",
    "\n",
    "\n",
    "$$ P(D=C|X)= \\frac{P(X|D=C)P(D=C)}{\\sum_{D_i=\\{A,B,C\\}}P(X|D_i)P(D_i)} =  \\frac{\\frac{1}{20^7}\\frac{1}{3}}{\\frac{18}{20^7}\\frac{1}{3} + \\frac{64}{20^7}\\frac{1}{3} + \\frac{1}{20^7}\\frac{1}{3}} = \\frac{1}{83}= 0.0121$$"
   ]
  },
  {
   "cell_type": "markdown",
   "metadata": {},
   "source": [
    "3.1) ![model1](model.PNG)\n",
    "- index \n",
    "$  i\\in{1...7}\\ $  denotes $ i^{th}$ throw of a die \n",
    "- Random variables:$$$$\n",
    "$  D\\in{A,B} \\quad   die$ $$$$\n",
    "$  X_i\\in{1:7} \\quad$ value of die  "
   ]
  },
  {
   "cell_type": "markdown",
   "metadata": {},
   "source": [
    "3.2) ![model1](model.PNG)\n",
    "- index \n",
    "$  i\\in{1...7}\\ $  denotes $ i^{th}$ throw of a die \n",
    "- Random variables:$$$$\n",
    "$  D\\in{A,B,C} \\quad   die$ $$$$\n",
    "$  X_i\\in{1:7} \\quad$ value of die "
   ]
  },
  {
   "cell_type": "code",
   "execution_count": null,
   "metadata": {},
   "outputs": [],
   "source": []
  }
 ],
 "metadata": {
  "kernelspec": {
   "display_name": "Python 3",
   "language": "python",
   "name": "python3"
  },
  "language_info": {
   "codemirror_mode": {
    "name": "ipython",
    "version": 3
   },
   "file_extension": ".py",
   "mimetype": "text/x-python",
   "name": "python",
   "nbconvert_exporter": "python",
   "pygments_lexer": "ipython3",
   "version": "3.6.3"
  }
 },
 "nbformat": 4,
 "nbformat_minor": 2
}
