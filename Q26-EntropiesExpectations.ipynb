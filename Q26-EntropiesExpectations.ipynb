{
 "cells": [
  {
   "cell_type": "code",
   "execution_count": 8,
   "metadata": {},
   "outputs": [],
   "source": [
    "import numpy as np"
   ]
  },
  {
   "cell_type": "markdown",
   "metadata": {},
   "source": [
    "##### 1.Expectations and Covariance"
   ]
  },
  {
   "cell_type": "code",
   "execution_count": 63,
   "metadata": {},
   "outputs": [],
   "source": [
    "def expectation(random_variable, prob_rv):\n",
    "    assert random_variable.shape == prob_rv.shape\n",
    "    E_rv = np.sum(np.multiply(random_variable,prob_rv))\n",
    "    return E_rv\n",
    "\n",
    "def conditional(pxy,var,  var_value):\n",
    "    # var = {\"x\",\"y\"} , var_value: int\n",
    "    if var == \"x\":\n",
    "        px_y = pxy[:,var_value] / np.sum(pxy[:,var_value])\n",
    "        return px_y\n",
    "    else:\n",
    "        py_x = pxy[var_value,:] / np.sum(pxy[var_value,:])\n",
    "        return py_x   \n",
    "    \n",
    "def marginal(pxy, var):\n",
    "    #var = 'x', 'y'\n",
    "    if var == \"x\":\n",
    "        px_marginal = np.sum(pxy, axis=1, keepdims=True)\n",
    "        return px_marginal\n",
    "    else:\n",
    "        py_marginal = np.sum(pxy, axis=0, keepdims=True) \n",
    "        return py_marginal.T  \n",
    "\n",
    "def covariance(pxy, x, y):\n",
    "    # Cov(x,y) = E[xy] - E[x]E[y]\n",
    "    px = marginal(pxy, \"x\")\n",
    "    py = marginal(pxy, \"y\")\n",
    "        \n",
    "    Ex = expectation(x, px)\n",
    "    Ey = expectation(y, py)\n",
    "    \n",
    "    # E[xy]\n",
    "    Exy = np.sum(np.outer(x,y)*pxy)\n",
    "    CovXY = Exy - Ex*Ey\n",
    "    return CovXY"
   ]
  },
  {
   "cell_type": "markdown",
   "metadata": {},
   "source": [
    "#### 2.Joint Entropy"
   ]
  },
  {
   "cell_type": "code",
   "execution_count": 97,
   "metadata": {},
   "outputs": [],
   "source": [
    "def joint_entropy(pxy):\n",
    "    # handle 0log0 case\n",
    "    pxy[pxy==0] = 1      \n",
    "    Hxy = -1 * np.sum(np.multiply(pxy, np.log(pxy)))\n",
    "    return Hxy\n",
    "    \n",
    "def marginal_entropy(pxy, var):\n",
    "    #var = \"x\", \"y\"\n",
    "    if var == \"x\":\n",
    "        px = marginal(pxy, \"x\")        \n",
    "        Hx = -1 * np.sum(np.multiply(px, np.log(px)))\n",
    "        return Hx\n",
    "    else:\n",
    "        py = marginal(pxy, \"y\")        \n",
    "        Hy = -1 * np.sum(np.multiply(py, np.log(py)))\n",
    "        return Hy\n",
    "\n",
    "def conditional_entropy(pxy,var):\n",
    "    #var = \"x\", \"y\"\n",
    "    if var == \"x\":\n",
    "        px_y0 = conditional(pxy, \"x\", 0)\n",
    "        px_y1 = conditional(pxy, \"x\", 1)\n",
    "        Hx_y = -1 * np.sum(np.multiply(px, np.log(px)))\n",
    "        return Hxy\n",
    "    else:\n",
    "        py = marginal(pxy, \"y\")\n",
    "        Hy = -1 * np.sum(np.multiply(py, np.log(py)))\n",
    "        return Hyx\n",
    "\n",
    "def mutual_information(pxy, var):\n",
    "    Hx = marginal_entropy(pxy, var)\n",
    "    Hxy = conditional_entropy(pxy, var)\n",
    "    I = Hx - Hx\n",
    "    return I"
   ]
  },
  {
   "cell_type": "code",
   "execution_count": 98,
   "metadata": {},
   "outputs": [],
   "source": [
    "X = np.array([[1],[2]], ndmin=2)\n",
    "Y = np.array([[-1],[0],[5]], ndmin=2)\n",
    "pxy = np.array([[0.3, 0.3, 0],[0.1, 0.2, 0.1]])"
   ]
  },
  {
   "cell_type": "code",
   "execution_count": 94,
   "metadata": {},
   "outputs": [
    {
     "data": {
      "text/plain": [
       "0.67301166700925652"
      ]
     },
     "execution_count": 94,
     "metadata": {},
     "output_type": "execute_result"
    }
   ],
   "source": [
    "marginal_entropy(pxy, \"x\")"
   ]
  },
  {
   "cell_type": "code",
   "execution_count": null,
   "metadata": {},
   "outputs": [],
   "source": []
  }
 ],
 "metadata": {
  "kernelspec": {
   "display_name": "Python 3",
   "language": "python",
   "name": "python3"
  },
  "language_info": {
   "codemirror_mode": {
    "name": "ipython",
    "version": 3
   },
   "file_extension": ".py",
   "mimetype": "text/x-python",
   "name": "python",
   "nbconvert_exporter": "python",
   "pygments_lexer": "ipython3",
   "version": "3.6.3"
  }
 },
 "nbformat": 4,
 "nbformat_minor": 2
}
